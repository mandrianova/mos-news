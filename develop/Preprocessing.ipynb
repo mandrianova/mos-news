{
 "cells": [
  {
   "cell_type": "markdown",
   "id": "4e82bc88-02f9-49b6-9c2a-bc8cae5918b3",
   "metadata": {
    "tags": []
   },
   "source": [
    "# Обработка и дополнение данных"
   ]
  },
  {
   "cell_type": "markdown",
   "id": "3c5cec5f-2ddd-4180-aedb-1a865be99c30",
   "metadata": {},
   "source": [
    "---"
   ]
  },
  {
   "cell_type": "markdown",
   "id": "7cdb73b8-fc31-44ab-b145-82276adb5419",
   "metadata": {},
   "source": [
    "### Цели"
   ]
  },
  {
   "cell_type": "markdown",
   "id": "8d5b8b08-891b-411c-9a87-b5ae2dd98971",
   "metadata": {
    "tags": []
   },
   "source": [
    "1. Подготовить датасеты для моделей обучения\n",
    "2. "
   ]
  },
  {
   "cell_type": "code",
   "execution_count": 1,
   "id": "90b177b0-c6b0-4800-ab73-2952ff16d5fc",
   "metadata": {},
   "outputs": [],
   "source": [
    "import json\n",
    "import os\n",
    "from multiprocessing import Pool\n",
    "import sys\n",
    "import matplotlib.pyplot as plt\n",
    "import pandas as pd\n",
    "import pprint\n",
    "import progressbar\n",
    "import re\n",
    "import requests\n",
    "import questionary\n",
    "import seaborn as sns\n",
    "import time\n",
    "import urllib\n",
    "import warnings"
   ]
  },
  {
   "cell_type": "code",
   "execution_count": 2,
   "id": "58579b20-a391-4bb9-b0a4-74f4ed4bb839",
   "metadata": {},
   "outputs": [],
   "source": [
    "plt.style.use('ggplot')\n",
    "warnings.filterwarnings('ignore')\n",
    "pd.options.display.max_columns = 50\n",
    "pd.options.display.max_columns = 20"
   ]
  },
  {
   "cell_type": "code",
   "execution_count": 3,
   "id": "ff41a356-43a0-424e-b687-73238bf0334b",
   "metadata": {},
   "outputs": [],
   "source": [
    "BASE_DIR = os.path.dirname(os.path.dirname(os.path.abspath('__file__')))"
   ]
  },
  {
   "cell_type": "markdown",
   "id": "200f6289-0132-4d9c-904e-8cfe1129ffed",
   "metadata": {},
   "source": [
    "### Категории"
   ]
  },
  {
   "cell_type": "code",
   "execution_count": null,
   "id": "480d2bbc-463c-444f-bef1-594a21270767",
   "metadata": {},
   "outputs": [],
   "source": [
    "df_news.describe(include=[object]).T"
   ]
  },
  {
   "cell_type": "markdown",
   "id": "6e9ba30e-bc3f-4ff6-a803-8cbf180f1a04",
   "metadata": {},
   "source": [
    "небольшое количество записей содержит информацию в колонках preview, text, images. При этом, у нас есть колонки со схожими названиями: preview_text, full_text, image."
   ]
  },
  {
   "cell_type": "code",
   "execution_count": null,
   "id": "77c7c475-0306-431e-a7e5-bdf2d16e457b",
   "metadata": {},
   "outputs": [],
   "source": [
    "# проверим несколько записей с пустыми значениями в столбце preview\n",
    "df_news[df_news.preview.isna()][['preview', 'preview_text', 'text', 'full_text', 'image', 'images']][:5]"
   ]
  },
  {
   "cell_type": "code",
   "execution_count": null,
   "id": "b30bc834-b07c-42d2-be4c-d7f6965293a7",
   "metadata": {},
   "outputs": [],
   "source": [
    "# проверим несколько записей с пустыми значениями в столбце preview_text\n",
    "df_news[df_news.preview_text.isna()][['preview', 'preview_text', 'text', 'full_text', 'image', 'images']][:5]"
   ]
  },
  {
   "cell_type": "code",
   "execution_count": null,
   "id": "405d5532-2c7d-4e8e-ac18-7e428a4a30aa",
   "metadata": {},
   "outputs": [],
   "source": [
    "string_columns = df_news.select_dtypes(object).columns"
   ]
  },
  {
   "cell_type": "code",
   "execution_count": null,
   "id": "4e2d0005-5bca-4012-b8d9-e42473ba0b41",
   "metadata": {},
   "outputs": [],
   "source": [
    "string_columns"
   ]
  },
  {
   "cell_type": "code",
   "execution_count": null,
   "id": "aac376fa-2229-4af1-be71-fa9e5e03ec16",
   "metadata": {},
   "outputs": [],
   "source": [
    "val_columns = df_news.select_dtypes(exclude=object).columns"
   ]
  },
  {
   "cell_type": "code",
   "execution_count": null,
   "id": "abf95d09-b1fb-40ad-b0ba-95dd3bbcca60",
   "metadata": {},
   "outputs": [],
   "source": [
    "val_columns"
   ]
  },
  {
   "cell_type": "code",
   "execution_count": null,
   "id": "b216ccf3-f1d4-4788-8b4d-7a8e365b4c43",
   "metadata": {},
   "outputs": [],
   "source": [
    "df_news[string_columns] = df_news[string_columns].fillna('')"
   ]
  },
  {
   "cell_type": "code",
   "execution_count": null,
   "id": "36a01346-ba3f-459d-ba08-92cecb89e89e",
   "metadata": {},
   "outputs": [],
   "source": [
    "df_news[val_columns] = df_news[val_columns].fillna(0)"
   ]
  },
  {
   "cell_type": "code",
   "execution_count": null,
   "id": "1f2372c3-1a7d-496a-9d72-66687950aec3",
   "metadata": {},
   "outputs": [],
   "source": [
    "df_news"
   ]
  },
  {
   "cell_type": "markdown",
   "id": "41ae175d-ccbe-4117-b24d-8b842d689ccf",
   "metadata": {},
   "source": [
    " MEMO: перенести данные в одну колонку: preview -> preview_text, text -> full_text, images -> image"
   ]
  },
  {
   "cell_type": "code",
   "execution_count": null,
   "id": "34add2a3-eeb6-48b0-b537-dfd4612198ad",
   "metadata": {},
   "outputs": [],
   "source": [
    "df_news.preview_text = df_news.apply(lambda c: c.preview if len(c.preview) > 0 else c.preview_text, axis=1)"
   ]
  },
  {
   "cell_type": "code",
   "execution_count": null,
   "id": "43240b0f-1149-40b1-9a91-5cd92b3d493a",
   "metadata": {},
   "outputs": [],
   "source": [
    "df_news.full_text = df_news.apply(lambda c: c.text if len(c.text) > 0 else c.full_text, axis=1)"
   ]
  },
  {
   "cell_type": "code",
   "execution_count": null,
   "id": "9c828a1a-17a9-4b11-8380-b338cc2819bd",
   "metadata": {},
   "outputs": [],
   "source": [
    "def get_text_on_pattern_replacement_func(html_text: str) -> str:\n",
    "    patterns_to_replace = {\n",
    "        '&nbsp;': ' ',  # замена пробела(&nbsp;) на пробел\n",
    "        '<.+?>|\\\\n|&[a-z]+;': '',  # замена всех тэгов, /n и выражений типа &ldquo; на пустую строку\n",
    "        '\\s+': ' ',  # замена всех повторяющихся пробелов на один\n",
    "        '(.\\.)(\\S)': '\\g<1> \\g<2>',\n",
    "        # добавление пробела после конца предложения, если дальше нет пробела и начинается буква\n",
    "        '\\s+$': '',  # удаление пробелов с конца строки\n",
    "    }\n",
    "\n",
    "    for pattern, repl in patterns_to_replace.items():\n",
    "        html_text = re.sub(pattern, repl, html_text)\n",
    "        return html_text"
   ]
  },
  {
   "cell_type": "code",
   "execution_count": null,
   "id": "18e23dbb-205d-4240-825d-be3972c9a5bb",
   "metadata": {},
   "outputs": [],
   "source": [
    "# df_news['full_text_cleaned'] = df_news.apply(lambda c: get_text_on_pattern_replacement_func(c.full_text), axis=1)"
   ]
  },
  {
   "cell_type": "code",
   "execution_count": null,
   "id": "5cb6901b-b802-465e-bc94-5e1ec23fe5ad",
   "metadata": {},
   "outputs": [],
   "source": [
    "# df_news['full_text_cleaned'] = [get_text_on_pattern_replacement_func(i) for i in df_news.full_text.values]"
   ]
  },
  {
   "cell_type": "code",
   "execution_count": null,
   "id": "71029370-fc47-4e2d-ba90-792af49818eb",
   "metadata": {},
   "outputs": [],
   "source": []
  },
  {
   "cell_type": "markdown",
   "id": "c94b1fb3-9f43-4c33-8821-777cd0741d7b",
   "metadata": {},
   "source": [
    "### Значения, даты, булеаны"
   ]
  },
  {
   "cell_type": "code",
   "execution_count": null,
   "id": "a4d82a57-dfdf-46d5-91a7-0269b68de8a2",
   "metadata": {},
   "outputs": [],
   "source": [
    "df_news.describe(exclude=[object]).T"
   ]
  },
  {
   "cell_type": "code",
   "execution_count": null,
   "id": "79923f2b-8236-472c-9728-7db25a04077c",
   "metadata": {},
   "outputs": [],
   "source": []
  },
  {
   "cell_type": "markdown",
   "id": "0d581042-635a-4a73-a2b6-e72fa26482b6",
   "metadata": {},
   "source": [
    "### Проверка наличия необходимых полей в датасетах"
   ]
  },
  {
   "cell_type": "code",
   "execution_count": null,
   "id": "7612208b-2f65-465c-b437-c1d889b69c5d",
   "metadata": {},
   "outputs": [],
   "source": [
    "# dataset['news_id'] = dataset.apply(lambda i: i.url_clean.split('/')[-2], axis=1)"
   ]
  },
  {
   "cell_type": "code",
   "execution_count": null,
   "id": "055edaab-a3cc-4cbc-a49d-57b3c2d860f1",
   "metadata": {},
   "outputs": [],
   "source": [
    "dataset['news_id'] = dataset.url_clean.str.extract(r\"(\\d{7})\")"
   ]
  },
  {
   "cell_type": "code",
   "execution_count": null,
   "id": "7272c956-c487-4456-8bdf-cf7c75ec17ad",
   "metadata": {},
   "outputs": [],
   "source": [
    "dataset[dataset.news_id.isna()]"
   ]
  },
  {
   "cell_type": "code",
   "execution_count": null,
   "id": "575d6a75-e8a8-4f31-be1b-758b0e7ef3df",
   "metadata": {},
   "outputs": [],
   "source": [
    "dataset.news_id.fillna(0, inplace=True)"
   ]
  },
  {
   "cell_type": "code",
   "execution_count": null,
   "id": "800b89ff-8ce8-444c-b568-da2296c03f9e",
   "metadata": {},
   "outputs": [],
   "source": [
    "dataset.news_id = [int(i) for i in dataset.news_id]"
   ]
  },
  {
   "cell_type": "code",
   "execution_count": null,
   "id": "4aadc3b8-c232-418e-b367-d762d9524b16",
   "metadata": {},
   "outputs": [],
   "source": [
    "df_news[~df_news.id.isin(dataset.news_id.unique())][['id', 'title', 'preview_text', 'created_at', 'published_at', 'updated_at']]"
   ]
  },
  {
   "cell_type": "markdown",
   "id": "6e440b6e-0a61-4e5f-bb0e-d588bebc1ece",
   "metadata": {},
   "source": [
    "##### бОльшая часть данных в предоставленном датасете не имеет соответствующей новости... "
   ]
  },
  {
   "cell_type": "code",
   "execution_count": null,
   "id": "8485151a-ec64-4fe6-9268-e82ca8378287",
   "metadata": {},
   "outputs": [],
   "source": [
    "dataset.iloc[13219]"
   ]
  },
  {
   "cell_type": "code",
   "execution_count": null,
   "id": "f776846d-e353-480d-a801-90d123c9eb61",
   "metadata": {},
   "outputs": [],
   "source": []
  },
  {
   "cell_type": "markdown",
   "id": "fc24cfda-ee31-4a53-97ea-b3ab890916b1",
   "metadata": {},
   "source": [
    "## Get full data from api"
   ]
  },
  {
   "cell_type": "markdown",
   "id": "49db6fe5-5085-4a4e-9738-a027f5fd40bf",
   "metadata": {},
   "source": [
    "#### Articles"
   ]
  },
  {
   "cell_type": "code",
   "execution_count": null,
   "id": "7d583371-4e2e-4698-a00d-342b97dca012",
   "metadata": {},
   "outputs": [],
   "source": [
    "articles_api = 'https://www.mos.ru/api/newsfeed/v4/frontend/json/ru/articles?expand=spheres,kind,image&fields=id,title,importance,published_at,created_at,updated_at,is_deferred_publication,status,ya_rss,active_from,active_to,oiv_id,search,display_image,label,icon_id,canonical_url,canonical_updated_at,is_powered,has_image,date,has_district,date_timestamp,tags,theme_id,theme_ids,themes,spheres,sphere,kind,is_oiv_publication,organizations,updated_at_timestamp,created_at_timestamp,attach,active_from_timestamp,active_to_timestamp,image,counter,territory_area_id,territory_district_id,preview_text,full_text,url,preview,text,promo,images'"
   ]
  },
  {
   "cell_type": "code",
   "execution_count": null,
   "id": "1e951e58-dfc5-4c8c-b46c-ae08f796f749",
   "metadata": {},
   "outputs": [],
   "source": [
    "def get_api_data(base_api_url, filename='article_full.json') -> json:\n",
    "    response = requests.get(base_api_url)\n",
    "    data = response.json()\n",
    "    n_pages = data.get(\"_meta\").get(\"pageCount\") + 1\n",
    "    print(\"Total number of pages: \", n_pages)\n",
    "    full_data = []\n",
    "    pbar = progressbar.ProgressBar(widgets=[\n",
    "                          progressbar.SimpleProgress(),\n",
    "                          progressbar.Bar(),\n",
    "                          progressbar.ETA(),\n",
    "                          progressbar.FileTransferSpeed(),\n",
    "                          ],\n",
    "                          max_value=n_pages).start()\n",
    "    for i in range(n_pages):\n",
    "        page = requests.get(base_api_url + f\"&page={i}\")\n",
    "        try:\n",
    "            full_data.append(page.json().get('items'))\n",
    "        except Exception as e:\n",
    "            print(f\"Sorry, man! We got {e}\")\n",
    "#             questionary.select(\"Try to limit number of fields and options to expand:\",\n",
    "#                                choices=[\n",
    "#                                    \"spheres\",\n",
    "#                                    \"kind\",\n",
    "#                                    \"image\",\n",
    "#                                    \"preview\",\n",
    "#                                    \"text\",\n",
    "#                                    \"promo\",\n",
    "#                                    \"images\",\n",
    "#                                ]\n",
    "#                               ).ask()\n",
    "#             page = requests.get(base_api_url[:62] + f\"&page={i}\")\n",
    "#             full_data.append(page.json().get('items')[0])\n",
    "        pbar.update(i+1)\n",
    "#         print(f\"page {i}: \", len(page.json().get(\"items\", \"error\")))\n",
    "    with open(os.path.join(BASE_DIR, \"data\", filename), \"w\") as file:\n",
    "        json.dump(full_data, file)\n",
    "        pbar.finish()"
   ]
  },
  {
   "cell_type": "code",
   "execution_count": null,
   "id": "394724aa-c4bc-4869-8faf-9bcd72ee1d44",
   "metadata": {},
   "outputs": [],
   "source": [
    "get_api_data(articles_api, 'articles_full.json')"
   ]
  },
  {
   "cell_type": "code",
   "execution_count": null,
   "id": "b0135c6a-cd44-4957-89a9-800e706f0914",
   "metadata": {},
   "outputs": [],
   "source": []
  },
  {
   "cell_type": "markdown",
   "id": "53dc0827-2b2f-418c-9141-29d38f93749f",
   "metadata": {},
   "source": [
    "##### Тут была попытка собрать всё побыстрее, используя мультипроцессинг и map... пока безуспешно. Работает на несколько порядков быстрее, чем обычный перебор страниц выше, но данные в финальном датасете только по первой и последней странице. Кто-нибудь сталкивался с подобным?"
   ]
  },
  {
   "cell_type": "code",
   "execution_count": null,
   "id": "05660601-cb57-4cda-a872-bfc9f7b1ce4d",
   "metadata": {},
   "outputs": [],
   "source": [
    "# full_articles = []"
   ]
  },
  {
   "cell_type": "code",
   "execution_count": null,
   "id": "f30c62de-15b9-4870-b82f-2fb867d2005b",
   "metadata": {},
   "outputs": [],
   "source": [
    "# for i in range(1, n_pages + 1):\n",
    "#     r = requests.get(articles_api+f'&page={i}')\n",
    "#     data = r.json()\n",
    "#     full_articles.append(data.get('items'))"
   ]
  },
  {
   "cell_type": "code",
   "execution_count": null,
   "id": "204b68fe-c80c-4060-abfe-3ac20f56dadb",
   "metadata": {},
   "outputs": [],
   "source": [
    "# def req(page):\n",
    "#     url = articles_api+f'&page={page}'\n",
    "#     r = requests.get(url)\n",
    "#     data = r.json()\n",
    "#     return data"
   ]
  },
  {
   "cell_type": "code",
   "execution_count": null,
   "id": "810a9d6e-41a1-4df7-90c4-2139e73a5c9b",
   "metadata": {},
   "outputs": [],
   "source": [
    "# with Pool(processes = 5) as P:\n",
    "#     results = P.map(req, list(range(1, n_pages + 1)))"
   ]
  },
  {
   "cell_type": "code",
   "execution_count": null,
   "id": "b2c513eb-c324-4ab8-aeb3-552a323436da",
   "metadata": {},
   "outputs": [],
   "source": [
    "# results[2]"
   ]
  },
  {
   "cell_type": "code",
   "execution_count": null,
   "id": "3ccd4b43-76ff-4a30-97e0-87b357187db8",
   "metadata": {},
   "outputs": [],
   "source": [
    "# flat_results = [item for sublist in results for item in sublist]"
   ]
  },
  {
   "cell_type": "code",
   "execution_count": null,
   "id": "4b4a690b-0ee6-47a6-83fc-8155cdef7958",
   "metadata": {},
   "outputs": [],
   "source": [
    "# with open(os.path.join(BASE_DIR, 'data', 'articles_full.json'), 'w') as file:\n",
    "#     json.dump(flat_results, file)"
   ]
  },
  {
   "cell_type": "markdown",
   "id": "fecfdb59-f123-4198-8a66-40aeaaf653bf",
   "metadata": {},
   "source": [
    "#### News"
   ]
  },
  {
   "cell_type": "code",
   "execution_count": null,
   "id": "578a3cf1-5c60-4e11-95f8-d2f1142f4a19",
   "metadata": {},
   "outputs": [],
   "source": [
    "news_api = 'https://www.mos.ru/api/newsfeed/v4/frontend/json/ru/news?expand=spheres,kind,image,tags&fields=id,title,importance,published_at,created_at,updated_at,is_deferred_publication,status,ya_rss,active_from,active_to,oiv_id,search,display_image,label,icon_id,canonical_url,canonical_updated_at,is_powered,has_image,date,has_district,date_timestamp,tags,theme_id,theme_ids,themes,spheres,sphere,kind,is_oiv_publication,organizations,updated_at_timestamp,created_at_timestamp,attach,active_from_timestamp,active_to_timestamp,image,counter,territory_area_id,territory_district_id,preview,text,url,promo,images'"
   ]
  },
  {
   "cell_type": "code",
   "execution_count": null,
   "id": "74939883-9d72-47df-a028-f6d47a58b4a9",
   "metadata": {},
   "outputs": [],
   "source": [
    "get_api_data(news_api, 'news_full.json')"
   ]
  },
  {
   "cell_type": "code",
   "execution_count": null,
   "id": "ca61fead-6448-48b5-aadd-9895df5f92ad",
   "metadata": {},
   "outputs": [],
   "source": [
    "# news_api = 'https://www.mos.ru/api/newsfeed/v4/frontend/json/ru/news?expand=spheres,kind,image,tags,attach&fields=id,title,importance,published_at,created_at,updated_at,is_deferred_publication,status,ya_rss,active_from,active_to,oiv_id,search,display_image,label,icon_id,canonical_url,canonical_updated_at,is_powered,has_image,date,has_district,date_timestamp,tags,theme_id,theme_ids,themes,spheres,sphere,kind,is_oiv_publication,organizations,updated_at_timestamp,created_at_timestamp,attach,active_from_timestamp,active_to_timestamp,image,counter,territory_area_id,territory_district_id,preview_text,full_text,url,preview,text,promo,images'"
   ]
  },
  {
   "cell_type": "code",
   "execution_count": null,
   "id": "50099a75-47ec-4669-829f-71fae54970b8",
   "metadata": {},
   "outputs": [],
   "source": [
    "# r = requests.get(news_api)"
   ]
  },
  {
   "cell_type": "code",
   "execution_count": null,
   "id": "603f33cb-64ed-415b-8f66-46395b35051f",
   "metadata": {},
   "outputs": [],
   "source": [
    "# data = r.json()"
   ]
  },
  {
   "cell_type": "code",
   "execution_count": null,
   "id": "dc678978-90bd-4086-9b8d-116a916f601e",
   "metadata": {},
   "outputs": [],
   "source": [
    "# n_pages = data.get('_meta').get('pageCount')"
   ]
  },
  {
   "cell_type": "code",
   "execution_count": null,
   "id": "fb21998e-b4f4-4851-a26f-ea4a7f8d1a45",
   "metadata": {},
   "outputs": [],
   "source": [
    "# def get_urls(n_pages):\n",
    "#     for i in range(1, n_pages + 1):\n",
    "#         url = news_api+f'&page={i}'\n",
    "#         yield url"
   ]
  },
  {
   "cell_type": "code",
   "execution_count": null,
   "id": "10fbd128-70c2-477c-8bdb-72d959696a78",
   "metadata": {},
   "outputs": [],
   "source": [
    "# urls = [news_api+f'&page={i}' for i in range(1, n_pages + 1)]"
   ]
  },
  {
   "cell_type": "code",
   "execution_count": null,
   "id": "a0c5bf15-d6f1-48ef-87a1-3b4f4a4c3fcb",
   "metadata": {},
   "outputs": [],
   "source": [
    "# def req(url):\n",
    "#     r = requests.get(url)\n",
    "#     time.sleep(0.2)\n",
    "#     data = r.json()\n",
    "# #     print('getting url: ', url)\n",
    "# #     print('received data: ', data.get('items', 'error'))\n",
    "#     return data"
   ]
  },
  {
   "cell_type": "code",
   "execution_count": null,
   "id": "c4e9d663-1df7-4d6f-b9d6-105eee3adc96",
   "metadata": {},
   "outputs": [],
   "source": [
    "# full_news = []"
   ]
  },
  {
   "cell_type": "code",
   "execution_count": null,
   "id": "1ba0b9b1-70dc-493c-8326-b3ed2b60aba3",
   "metadata": {},
   "outputs": [],
   "source": [
    "# with Pool(processes=5) as P:\n",
    "#     results = P.map(req, get_urls(n_pages))\n",
    "#     for _ in tqdm.tqdm(P.imap_unordered(req, urls), total=len(urls)):\n",
    "#         full_news.append(_)\n",
    "#     results = list(tqdm.tqdm(P.imap_unordered(req, urls), total=len(urls)))\n",
    "#     full_news.append(results)"
   ]
  },
  {
   "cell_type": "code",
   "execution_count": null,
   "id": "b62bfc15-aa9d-4221-8abf-0765fcd961f9",
   "metadata": {},
   "outputs": [],
   "source": [
    "# full_news[-100:]\n",
    "# results[-100:]"
   ]
  },
  {
   "cell_type": "code",
   "execution_count": null,
   "id": "26f7dfbe-c8a7-4770-9acd-155ff11631fb",
   "metadata": {},
   "outputs": [],
   "source": [
    "# full_news = []\n",
    "# for i in range(1, n_pages + 1):\n",
    "#     r = requests.get(news_api+f'&page={i}')\n",
    "#     data = r.json()\n",
    "#     full_news.append(data.get('items'))"
   ]
  },
  {
   "cell_type": "code",
   "execution_count": null,
   "id": "91c41633-6739-4690-ba76-fced461463a2",
   "metadata": {},
   "outputs": [],
   "source": [
    "# flat_results = [item for sublist in results for item in sublist]"
   ]
  },
  {
   "cell_type": "code",
   "execution_count": null,
   "id": "71d35ee1-0296-4df6-9d01-2b1b208d4983",
   "metadata": {},
   "outputs": [],
   "source": [
    "# with open(os.path.join(BASE_DIR, 'data', 'news_full.json'), 'w') as file:\n",
    "#     json.dump(flat_results, file)"
   ]
  },
  {
   "cell_type": "code",
   "execution_count": null,
   "id": "8ffdb29a-5032-4eed-8044-3d991ae07515",
   "metadata": {},
   "outputs": [],
   "source": [
    "# from alive_progress import alive_bar\n",
    "# from time import sleep\n",
    "\n",
    "# with alive_bar(100) as bar:   # default setting\n",
    "#     for i in range(100):\n",
    "#         sleep(0.03)\n",
    "#         bar()                        # call after consuming one item\n",
    "\n",
    "# using bubble bar and notes spinner\n",
    "# with alive_bar(200, bar = 'bubbles', spinner = 'notes2') as bar:\n",
    "#     for i in range(200):\n",
    "#         sleep(0.03)\n",
    "#         bar()                    # call after consuming one item"
   ]
  },
  {
   "cell_type": "code",
   "execution_count": null,
   "id": "fa395889-2d7b-4655-8dbb-0dda1d142435",
   "metadata": {},
   "outputs": [],
   "source": [
    "# with open(os.path.join(BASE_DIR, 'data', 'news_full.json'), 'a'):\n",
    "#     json.dumps(data)"
   ]
  },
  {
   "cell_type": "code",
   "execution_count": null,
   "id": "a6d7fe66-4632-4713-9777-a2f88492dc29",
   "metadata": {},
   "outputs": [],
   "source": [
    "# urllib.parse.unquote(data.get('_links').get('next').get('href'))"
   ]
  },
  {
   "cell_type": "code",
   "execution_count": null,
   "id": "01ccbdd5-7b78-409a-b8e3-63853fba2712",
   "metadata": {},
   "outputs": [],
   "source": [
    "with open(os.path.join(BASE_DIR, 'data', 'news_full.json')) as file:\n",
    "    data = json.load(file)"
   ]
  }
 ],
 "metadata": {
  "kernelspec": {
   "display_name": "Python [conda env:root] *",
   "language": "python",
   "name": "conda-root-py"
  },
  "language_info": {
   "codemirror_mode": {
    "name": "ipython",
    "version": 3
   },
   "file_extension": ".py",
   "mimetype": "text/x-python",
   "name": "python",
   "nbconvert_exporter": "python",
   "pygments_lexer": "ipython3",
   "version": "3.7.11"
  }
 },
 "nbformat": 4,
 "nbformat_minor": 5
}
