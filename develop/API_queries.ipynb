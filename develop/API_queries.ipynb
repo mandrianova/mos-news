{
 "cells": [
  {
   "cell_type": "markdown",
   "id": "4e82bc88-02f9-49b6-9c2a-bc8cae5918b3",
   "metadata": {
    "tags": []
   },
   "source": [
    "# Обработка и дополнение данных"
   ]
  },
  {
   "cell_type": "markdown",
   "id": "3c5cec5f-2ddd-4180-aedb-1a865be99c30",
   "metadata": {},
   "source": [
    "---"
   ]
  },
  {
   "cell_type": "markdown",
   "id": "7cdb73b8-fc31-44ab-b145-82276adb5419",
   "metadata": {},
   "source": [
    "### Цели"
   ]
  },
  {
   "cell_type": "markdown",
   "id": "8d5b8b08-891b-411c-9a87-b5ae2dd98971",
   "metadata": {
    "tags": []
   },
   "source": [
    "1. Подготовить \"чистые\" датасеты для моделей обучения\n",
    "2. "
   ]
  },
  {
   "cell_type": "code",
   "execution_count": 1,
   "id": "90b177b0-c6b0-4800-ab73-2952ff16d5fc",
   "metadata": {},
   "outputs": [],
   "source": [
    "import json\n",
    "import os\n",
    "from multiprocessing import Pool\n",
    "import sys\n",
    "import matplotlib.pyplot as plt\n",
    "import pandas as pd\n",
    "import pprint\n",
    "import progressbar\n",
    "import re\n",
    "import requests\n",
    "import seaborn as sns\n",
    "import time\n",
    "import urllib\n",
    "import warnings"
   ]
  },
  {
   "cell_type": "code",
   "execution_count": 7,
   "id": "58579b20-a391-4bb9-b0a4-74f4ed4bb839",
   "metadata": {},
   "outputs": [],
   "source": [
    "plt.style.use('ggplot')\n",
    "warnings.filterwarnings('ignore')\n",
    "pd.options.display.max_columns = 50\n",
    "pd.options.display.max_rows = 20"
   ]
  },
  {
   "cell_type": "code",
   "execution_count": 3,
   "id": "ff41a356-43a0-424e-b687-73238bf0334b",
   "metadata": {},
   "outputs": [],
   "source": [
    "BASE_DIR = os.path.dirname(os.path.dirname(os.path.abspath('__file__')))"
   ]
  },
  {
   "cell_type": "code",
   "execution_count": null,
   "id": "001a112c-3182-4ac0-ae93-5e6ee0e56a25",
   "metadata": {},
   "outputs": [],
   "source": []
  },
  {
   "cell_type": "markdown",
   "id": "fc24cfda-ee31-4a53-97ea-b3ab890916b1",
   "metadata": {},
   "source": [
    "## Get full data from api"
   ]
  },
  {
   "cell_type": "markdown",
   "id": "49db6fe5-5085-4a4e-9738-a027f5fd40bf",
   "metadata": {},
   "source": [
    "#### Articles"
   ]
  },
  {
   "cell_type": "code",
   "execution_count": null,
   "id": "7d583371-4e2e-4698-a00d-342b97dca012",
   "metadata": {},
   "outputs": [],
   "source": [
    "articles_api = 'https://www.mos.ru/api/newsfeed/v4/frontend/json/ru/articles?expand=spheres,kind,image&fields=id,title,importance,published_at,created_at,updated_at,is_deferred_publication,status,ya_rss,active_from,active_to,oiv_id,search,display_image,label,icon_id,canonical_url,canonical_updated_at,is_powered,has_image,date,has_district,date_timestamp,tags,theme_id,theme_ids,themes,spheres,sphere,kind,is_oiv_publication,organizations,updated_at_timestamp,created_at_timestamp,attach,active_from_timestamp,active_to_timestamp,image,counter,territory_area_id,territory_district_id,preview_text,full_text,url,preview,text,promo,images'"
   ]
  },
  {
   "cell_type": "code",
   "execution_count": null,
   "id": "1e951e58-dfc5-4c8c-b46c-ae08f796f749",
   "metadata": {},
   "outputs": [],
   "source": [
    "def get_api_data(base_api_url, filename='article_full.json') -> json:\n",
    "    response = requests.get(base_api_url)\n",
    "    data = response.json()\n",
    "    n_pages = data.get(\"_meta\").get(\"pageCount\") + 1\n",
    "    print(\"Total number of pages: \", n_pages)\n",
    "    full_data = []\n",
    "    pbar = progressbar.ProgressBar(widgets=[\n",
    "                          progressbar.SimpleProgress(),\n",
    "                          progressbar.Bar(),\n",
    "                          progressbar.ETA(),\n",
    "                          progressbar.FileTransferSpeed(),\n",
    "                          ],\n",
    "                          max_value=n_pages).start()\n",
    "    for i in range(n_pages):\n",
    "        page = requests.get(base_api_url + f\"&page={i}\")\n",
    "        try:\n",
    "            full_data.append(page.json().get('items'))\n",
    "        except Exception as e:\n",
    "            print(f\"Sorry, man! We got {e}\")\n",
    "#             questionary.select(\"Try to limit number of fields and options to expand:\",\n",
    "#                                choices=[\n",
    "#                                    \"spheres\",\n",
    "#                                    \"kind\",\n",
    "#                                    \"image\",\n",
    "#                                    \"preview\",\n",
    "#                                    \"text\",\n",
    "#                                    \"promo\",\n",
    "#                                    \"images\",\n",
    "#                                ]\n",
    "#                               ).ask()\n",
    "#             page = requests.get(base_api_url[:62] + f\"&page={i}\")\n",
    "#             full_data.append(page.json().get('items')[0])\n",
    "        pbar.update(i+1)\n",
    "#         print(f\"page {i}: \", len(page.json().get(\"items\", \"error\")))\n",
    "    with open(os.path.join(BASE_DIR, \"data\", filename), \"w\") as file:\n",
    "        json.dump(full_data, file)\n",
    "        pbar.finish()"
   ]
  },
  {
   "cell_type": "code",
   "execution_count": null,
   "id": "394724aa-c4bc-4869-8faf-9bcd72ee1d44",
   "metadata": {},
   "outputs": [],
   "source": [
    "get_api_data(articles_api, 'articles_full.json')"
   ]
  },
  {
   "cell_type": "code",
   "execution_count": null,
   "id": "b0135c6a-cd44-4957-89a9-800e706f0914",
   "metadata": {},
   "outputs": [],
   "source": []
  },
  {
   "cell_type": "markdown",
   "id": "53dc0827-2b2f-418c-9141-29d38f93749f",
   "metadata": {},
   "source": [
    "##### Тут была попытка собрать всё побыстрее, используя мультипроцессинг и map... пока безуспешно. Работает на несколько порядков быстрее, чем обычный перебор страниц выше, но данные в финальном датасете только по первой и последней странице. Кто-нибудь сталкивался с подобным?"
   ]
  },
  {
   "cell_type": "code",
   "execution_count": null,
   "id": "05660601-cb57-4cda-a872-bfc9f7b1ce4d",
   "metadata": {},
   "outputs": [],
   "source": [
    "# full_articles = []"
   ]
  },
  {
   "cell_type": "code",
   "execution_count": null,
   "id": "f30c62de-15b9-4870-b82f-2fb867d2005b",
   "metadata": {},
   "outputs": [],
   "source": [
    "# for i in range(1, n_pages + 1):\n",
    "#     r = requests.get(articles_api+f'&page={i}')\n",
    "#     data = r.json()\n",
    "#     full_articles.append(data.get('items'))"
   ]
  },
  {
   "cell_type": "code",
   "execution_count": null,
   "id": "204b68fe-c80c-4060-abfe-3ac20f56dadb",
   "metadata": {},
   "outputs": [],
   "source": [
    "# def req(page):\n",
    "#     url = articles_api+f'&page={page}'\n",
    "#     r = requests.get(url)\n",
    "#     data = r.json()\n",
    "#     return data"
   ]
  },
  {
   "cell_type": "code",
   "execution_count": null,
   "id": "810a9d6e-41a1-4df7-90c4-2139e73a5c9b",
   "metadata": {},
   "outputs": [],
   "source": [
    "# with Pool(processes = 5) as P:\n",
    "#     results = P.map(req, list(range(1, n_pages + 1)))"
   ]
  },
  {
   "cell_type": "code",
   "execution_count": null,
   "id": "b2c513eb-c324-4ab8-aeb3-552a323436da",
   "metadata": {},
   "outputs": [],
   "source": [
    "# results[2]"
   ]
  },
  {
   "cell_type": "code",
   "execution_count": null,
   "id": "3ccd4b43-76ff-4a30-97e0-87b357187db8",
   "metadata": {},
   "outputs": [],
   "source": [
    "# flat_results = [item for sublist in results for item in sublist]"
   ]
  },
  {
   "cell_type": "code",
   "execution_count": null,
   "id": "4b4a690b-0ee6-47a6-83fc-8155cdef7958",
   "metadata": {},
   "outputs": [],
   "source": [
    "# with open(os.path.join(BASE_DIR, 'data', 'articles_full.json'), 'w') as file:\n",
    "#     json.dump(flat_results, file)"
   ]
  },
  {
   "cell_type": "markdown",
   "id": "fecfdb59-f123-4198-8a66-40aeaaf653bf",
   "metadata": {},
   "source": [
    "#### News"
   ]
  },
  {
   "cell_type": "code",
   "execution_count": null,
   "id": "578a3cf1-5c60-4e11-95f8-d2f1142f4a19",
   "metadata": {},
   "outputs": [],
   "source": [
    "news_api = 'https://www.mos.ru/api/newsfeed/v4/frontend/json/ru/news?expand=spheres,kind,image,tags&fields=id,title,importance,published_at,created_at,updated_at,is_deferred_publication,status,ya_rss,active_from,active_to,oiv_id,search,display_image,label,icon_id,canonical_url,canonical_updated_at,is_powered,has_image,date,has_district,date_timestamp,tags,theme_id,theme_ids,themes,spheres,sphere,kind,is_oiv_publication,organizations,updated_at_timestamp,created_at_timestamp,attach,active_from_timestamp,active_to_timestamp,image,counter,territory_area_id,territory_district_id,preview,text,url,promo,images'"
   ]
  },
  {
   "cell_type": "code",
   "execution_count": null,
   "id": "74939883-9d72-47df-a028-f6d47a58b4a9",
   "metadata": {},
   "outputs": [],
   "source": [
    "get_api_data(news_api, 'news_full.json')"
   ]
  },
  {
   "cell_type": "code",
   "execution_count": null,
   "id": "ca61fead-6448-48b5-aadd-9895df5f92ad",
   "metadata": {},
   "outputs": [],
   "source": [
    "# news_api = 'https://www.mos.ru/api/newsfeed/v4/frontend/json/ru/news?expand=spheres,kind,image,tags,attach&fields=id,title,importance,published_at,created_at,updated_at,is_deferred_publication,status,ya_rss,active_from,active_to,oiv_id,search,display_image,label,icon_id,canonical_url,canonical_updated_at,is_powered,has_image,date,has_district,date_timestamp,tags,theme_id,theme_ids,themes,spheres,sphere,kind,is_oiv_publication,organizations,updated_at_timestamp,created_at_timestamp,attach,active_from_timestamp,active_to_timestamp,image,counter,territory_area_id,territory_district_id,preview_text,full_text,url,preview,text,promo,images'"
   ]
  },
  {
   "cell_type": "code",
   "execution_count": null,
   "id": "50099a75-47ec-4669-829f-71fae54970b8",
   "metadata": {},
   "outputs": [],
   "source": [
    "# r = requests.get(news_api)"
   ]
  },
  {
   "cell_type": "code",
   "execution_count": null,
   "id": "603f33cb-64ed-415b-8f66-46395b35051f",
   "metadata": {},
   "outputs": [],
   "source": [
    "# data = r.json()"
   ]
  },
  {
   "cell_type": "code",
   "execution_count": null,
   "id": "dc678978-90bd-4086-9b8d-116a916f601e",
   "metadata": {},
   "outputs": [],
   "source": [
    "# n_pages = data.get('_meta').get('pageCount')"
   ]
  },
  {
   "cell_type": "code",
   "execution_count": null,
   "id": "fb21998e-b4f4-4851-a26f-ea4a7f8d1a45",
   "metadata": {},
   "outputs": [],
   "source": [
    "# def get_urls(n_pages):\n",
    "#     for i in range(1, n_pages + 1):\n",
    "#         url = news_api+f'&page={i}'\n",
    "#         yield url"
   ]
  },
  {
   "cell_type": "code",
   "execution_count": null,
   "id": "10fbd128-70c2-477c-8bdb-72d959696a78",
   "metadata": {},
   "outputs": [],
   "source": [
    "# urls = [news_api+f'&page={i}' for i in range(1, n_pages + 1)]"
   ]
  },
  {
   "cell_type": "code",
   "execution_count": null,
   "id": "a0c5bf15-d6f1-48ef-87a1-3b4f4a4c3fcb",
   "metadata": {},
   "outputs": [],
   "source": [
    "# def req(url):\n",
    "#     r = requests.get(url)\n",
    "#     time.sleep(0.2)\n",
    "#     data = r.json()\n",
    "# #     print('getting url: ', url)\n",
    "# #     print('received data: ', data.get('items', 'error'))\n",
    "#     return data"
   ]
  },
  {
   "cell_type": "code",
   "execution_count": null,
   "id": "c4e9d663-1df7-4d6f-b9d6-105eee3adc96",
   "metadata": {},
   "outputs": [],
   "source": [
    "# full_news = []"
   ]
  },
  {
   "cell_type": "code",
   "execution_count": null,
   "id": "1ba0b9b1-70dc-493c-8326-b3ed2b60aba3",
   "metadata": {},
   "outputs": [],
   "source": [
    "# with Pool(processes=5) as P:\n",
    "#     results = P.map(req, get_urls(n_pages))\n",
    "#     for _ in tqdm.tqdm(P.imap_unordered(req, urls), total=len(urls)):\n",
    "#         full_news.append(_)\n",
    "#     results = list(tqdm.tqdm(P.imap_unordered(req, urls), total=len(urls)))\n",
    "#     full_news.append(results)"
   ]
  },
  {
   "cell_type": "code",
   "execution_count": null,
   "id": "b62bfc15-aa9d-4221-8abf-0765fcd961f9",
   "metadata": {},
   "outputs": [],
   "source": [
    "# full_news[-100:]\n",
    "# results[-100:]"
   ]
  },
  {
   "cell_type": "code",
   "execution_count": null,
   "id": "26f7dfbe-c8a7-4770-9acd-155ff11631fb",
   "metadata": {},
   "outputs": [],
   "source": [
    "# full_news = []\n",
    "# for i in range(1, n_pages + 1):\n",
    "#     r = requests.get(news_api+f'&page={i}')\n",
    "#     data = r.json()\n",
    "#     full_news.append(data.get('items'))"
   ]
  },
  {
   "cell_type": "code",
   "execution_count": null,
   "id": "91c41633-6739-4690-ba76-fced461463a2",
   "metadata": {},
   "outputs": [],
   "source": [
    "# flat_results = [item for sublist in results for item in sublist]"
   ]
  },
  {
   "cell_type": "code",
   "execution_count": null,
   "id": "71d35ee1-0296-4df6-9d01-2b1b208d4983",
   "metadata": {},
   "outputs": [],
   "source": [
    "# with open(os.path.join(BASE_DIR, 'data', 'news_full.json'), 'w') as file:\n",
    "#     json.dump(flat_results, file)"
   ]
  },
  {
   "cell_type": "markdown",
   "id": "0354938e-b3b3-4748-afba-3e4e9add800e",
   "metadata": {},
   "source": [
    "##### на самом деле ошибка появлялась поскольку для каждой новости есть определённый набор доступных полей. если в урле указано отсутствуещее поле, то получаем ошибку и None для всей новости. Можно переписать запрос к апи, но организаторы сказали дополнительно ничего парсить не нужно. Работаем с тем, что есть."
   ]
  }
 ],
 "metadata": {
  "kernelspec": {
   "display_name": "Python [conda env:root] *",
   "language": "python",
   "name": "conda-root-py"
  },
  "language_info": {
   "codemirror_mode": {
    "name": "ipython",
    "version": 3
   },
   "file_extension": ".py",
   "mimetype": "text/x-python",
   "name": "python",
   "nbconvert_exporter": "python",
   "pygments_lexer": "ipython3",
   "version": "3.7.11"
  }
 },
 "nbformat": 4,
 "nbformat_minor": 5
}
